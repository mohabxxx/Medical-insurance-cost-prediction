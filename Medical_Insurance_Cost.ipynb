{
  "nbformat": 4,
  "nbformat_minor": 0,
  "metadata": {
    "colab": {
      "provenance": [],
      "authorship_tag": "ABX9TyNjUJLCQUrj1hWKa2iMrEul",
      "include_colab_link": true
    },
    "kernelspec": {
      "name": "python3",
      "display_name": "Python 3"
    },
    "language_info": {
      "name": "python"
    }
  },
  "cells": [
    {
      "cell_type": "markdown",
      "metadata": {
        "id": "view-in-github",
        "colab_type": "text"
      },
      "source": [
        "<a href=\"https://colab.research.google.com/github/mohabxxx/Medical-insurance-cost-prediction/blob/main/Medical_Insurance_Cost.ipynb\" target=\"_parent\"><img src=\"https://colab.research.google.com/assets/colab-badge.svg\" alt=\"Open In Colab\"/></a>"
      ]
    },
    {
      "cell_type": "code",
      "execution_count": null,
      "metadata": {
        "id": "7PF7zYasqsIe"
      },
      "outputs": [],
      "source": [
        "import pandas as pd\n",
        "import numpy as np\n",
        "import tensorflow as tf\n",
        "import matplotlib.pyplot as plt\n"
      ]
    },
    {
      "cell_type": "code",
      "source": [
        "df=pd.read_csv('insurance.csv')\n",
        "X=df.iloc[:,:-1].values\n",
        "y=df.iloc[:,-1].values"
      ],
      "metadata": {
        "id": "YLc-5UAnrZct"
      },
      "execution_count": null,
      "outputs": []
    },
    {
      "cell_type": "code",
      "source": [
        "df.head()"
      ],
      "metadata": {
        "colab": {
          "base_uri": "https://localhost:8080/",
          "height": 206
        },
        "id": "19_16uMmrnTy",
        "outputId": "7c11c6a0-78bd-4be1-cdc3-bb11ef96ed69"
      },
      "execution_count": null,
      "outputs": [
        {
          "output_type": "execute_result",
          "data": {
            "text/plain": [
              "   age     sex     bmi  children smoker     region      charges\n",
              "0   19  female  27.900         0    yes  southwest  16884.92400\n",
              "1   18    male  33.770         1     no  southeast   1725.55230\n",
              "2   28    male  33.000         3     no  southeast   4449.46200\n",
              "3   33    male  22.705         0     no  northwest  21984.47061\n",
              "4   32    male  28.880         0     no  northwest   3866.85520"
            ],
            "text/html": [
              "\n",
              "  <div id=\"df-14926d27-f0f2-4f00-b43a-856d79b7246d\" class=\"colab-df-container\">\n",
              "    <div>\n",
              "<style scoped>\n",
              "    .dataframe tbody tr th:only-of-type {\n",
              "        vertical-align: middle;\n",
              "    }\n",
              "\n",
              "    .dataframe tbody tr th {\n",
              "        vertical-align: top;\n",
              "    }\n",
              "\n",
              "    .dataframe thead th {\n",
              "        text-align: right;\n",
              "    }\n",
              "</style>\n",
              "<table border=\"1\" class=\"dataframe\">\n",
              "  <thead>\n",
              "    <tr style=\"text-align: right;\">\n",
              "      <th></th>\n",
              "      <th>age</th>\n",
              "      <th>sex</th>\n",
              "      <th>bmi</th>\n",
              "      <th>children</th>\n",
              "      <th>smoker</th>\n",
              "      <th>region</th>\n",
              "      <th>charges</th>\n",
              "    </tr>\n",
              "  </thead>\n",
              "  <tbody>\n",
              "    <tr>\n",
              "      <th>0</th>\n",
              "      <td>19</td>\n",
              "      <td>female</td>\n",
              "      <td>27.900</td>\n",
              "      <td>0</td>\n",
              "      <td>yes</td>\n",
              "      <td>southwest</td>\n",
              "      <td>16884.92400</td>\n",
              "    </tr>\n",
              "    <tr>\n",
              "      <th>1</th>\n",
              "      <td>18</td>\n",
              "      <td>male</td>\n",
              "      <td>33.770</td>\n",
              "      <td>1</td>\n",
              "      <td>no</td>\n",
              "      <td>southeast</td>\n",
              "      <td>1725.55230</td>\n",
              "    </tr>\n",
              "    <tr>\n",
              "      <th>2</th>\n",
              "      <td>28</td>\n",
              "      <td>male</td>\n",
              "      <td>33.000</td>\n",
              "      <td>3</td>\n",
              "      <td>no</td>\n",
              "      <td>southeast</td>\n",
              "      <td>4449.46200</td>\n",
              "    </tr>\n",
              "    <tr>\n",
              "      <th>3</th>\n",
              "      <td>33</td>\n",
              "      <td>male</td>\n",
              "      <td>22.705</td>\n",
              "      <td>0</td>\n",
              "      <td>no</td>\n",
              "      <td>northwest</td>\n",
              "      <td>21984.47061</td>\n",
              "    </tr>\n",
              "    <tr>\n",
              "      <th>4</th>\n",
              "      <td>32</td>\n",
              "      <td>male</td>\n",
              "      <td>28.880</td>\n",
              "      <td>0</td>\n",
              "      <td>no</td>\n",
              "      <td>northwest</td>\n",
              "      <td>3866.85520</td>\n",
              "    </tr>\n",
              "  </tbody>\n",
              "</table>\n",
              "</div>\n",
              "    <div class=\"colab-df-buttons\">\n",
              "\n",
              "  <div class=\"colab-df-container\">\n",
              "    <button class=\"colab-df-convert\" onclick=\"convertToInteractive('df-14926d27-f0f2-4f00-b43a-856d79b7246d')\"\n",
              "            title=\"Convert this dataframe to an interactive table.\"\n",
              "            style=\"display:none;\">\n",
              "\n",
              "  <svg xmlns=\"http://www.w3.org/2000/svg\" height=\"24px\" viewBox=\"0 -960 960 960\">\n",
              "    <path d=\"M120-120v-720h720v720H120Zm60-500h600v-160H180v160Zm220 220h160v-160H400v160Zm0 220h160v-160H400v160ZM180-400h160v-160H180v160Zm440 0h160v-160H620v160ZM180-180h160v-160H180v160Zm440 0h160v-160H620v160Z\"/>\n",
              "  </svg>\n",
              "    </button>\n",
              "\n",
              "  <style>\n",
              "    .colab-df-container {\n",
              "      display:flex;\n",
              "      gap: 12px;\n",
              "    }\n",
              "\n",
              "    .colab-df-convert {\n",
              "      background-color: #E8F0FE;\n",
              "      border: none;\n",
              "      border-radius: 50%;\n",
              "      cursor: pointer;\n",
              "      display: none;\n",
              "      fill: #1967D2;\n",
              "      height: 32px;\n",
              "      padding: 0 0 0 0;\n",
              "      width: 32px;\n",
              "    }\n",
              "\n",
              "    .colab-df-convert:hover {\n",
              "      background-color: #E2EBFA;\n",
              "      box-shadow: 0px 1px 2px rgba(60, 64, 67, 0.3), 0px 1px 3px 1px rgba(60, 64, 67, 0.15);\n",
              "      fill: #174EA6;\n",
              "    }\n",
              "\n",
              "    .colab-df-buttons div {\n",
              "      margin-bottom: 4px;\n",
              "    }\n",
              "\n",
              "    [theme=dark] .colab-df-convert {\n",
              "      background-color: #3B4455;\n",
              "      fill: #D2E3FC;\n",
              "    }\n",
              "\n",
              "    [theme=dark] .colab-df-convert:hover {\n",
              "      background-color: #434B5C;\n",
              "      box-shadow: 0px 1px 3px 1px rgba(0, 0, 0, 0.15);\n",
              "      filter: drop-shadow(0px 1px 2px rgba(0, 0, 0, 0.3));\n",
              "      fill: #FFFFFF;\n",
              "    }\n",
              "  </style>\n",
              "\n",
              "    <script>\n",
              "      const buttonEl =\n",
              "        document.querySelector('#df-14926d27-f0f2-4f00-b43a-856d79b7246d button.colab-df-convert');\n",
              "      buttonEl.style.display =\n",
              "        google.colab.kernel.accessAllowed ? 'block' : 'none';\n",
              "\n",
              "      async function convertToInteractive(key) {\n",
              "        const element = document.querySelector('#df-14926d27-f0f2-4f00-b43a-856d79b7246d');\n",
              "        const dataTable =\n",
              "          await google.colab.kernel.invokeFunction('convertToInteractive',\n",
              "                                                    [key], {});\n",
              "        if (!dataTable) return;\n",
              "\n",
              "        const docLinkHtml = 'Like what you see? Visit the ' +\n",
              "          '<a target=\"_blank\" href=https://colab.research.google.com/notebooks/data_table.ipynb>data table notebook</a>'\n",
              "          + ' to learn more about interactive tables.';\n",
              "        element.innerHTML = '';\n",
              "        dataTable['output_type'] = 'display_data';\n",
              "        await google.colab.output.renderOutput(dataTable, element);\n",
              "        const docLink = document.createElement('div');\n",
              "        docLink.innerHTML = docLinkHtml;\n",
              "        element.appendChild(docLink);\n",
              "      }\n",
              "    </script>\n",
              "  </div>\n",
              "\n",
              "\n",
              "<div id=\"df-c61e347b-591e-417b-be5f-b048f8fd4c16\">\n",
              "  <button class=\"colab-df-quickchart\" onclick=\"quickchart('df-c61e347b-591e-417b-be5f-b048f8fd4c16')\"\n",
              "            title=\"Suggest charts\"\n",
              "            style=\"display:none;\">\n",
              "\n",
              "<svg xmlns=\"http://www.w3.org/2000/svg\" height=\"24px\"viewBox=\"0 0 24 24\"\n",
              "     width=\"24px\">\n",
              "    <g>\n",
              "        <path d=\"M19 3H5c-1.1 0-2 .9-2 2v14c0 1.1.9 2 2 2h14c1.1 0 2-.9 2-2V5c0-1.1-.9-2-2-2zM9 17H7v-7h2v7zm4 0h-2V7h2v10zm4 0h-2v-4h2v4z\"/>\n",
              "    </g>\n",
              "</svg>\n",
              "  </button>\n",
              "\n",
              "<style>\n",
              "  .colab-df-quickchart {\n",
              "      --bg-color: #E8F0FE;\n",
              "      --fill-color: #1967D2;\n",
              "      --hover-bg-color: #E2EBFA;\n",
              "      --hover-fill-color: #174EA6;\n",
              "      --disabled-fill-color: #AAA;\n",
              "      --disabled-bg-color: #DDD;\n",
              "  }\n",
              "\n",
              "  [theme=dark] .colab-df-quickchart {\n",
              "      --bg-color: #3B4455;\n",
              "      --fill-color: #D2E3FC;\n",
              "      --hover-bg-color: #434B5C;\n",
              "      --hover-fill-color: #FFFFFF;\n",
              "      --disabled-bg-color: #3B4455;\n",
              "      --disabled-fill-color: #666;\n",
              "  }\n",
              "\n",
              "  .colab-df-quickchart {\n",
              "    background-color: var(--bg-color);\n",
              "    border: none;\n",
              "    border-radius: 50%;\n",
              "    cursor: pointer;\n",
              "    display: none;\n",
              "    fill: var(--fill-color);\n",
              "    height: 32px;\n",
              "    padding: 0;\n",
              "    width: 32px;\n",
              "  }\n",
              "\n",
              "  .colab-df-quickchart:hover {\n",
              "    background-color: var(--hover-bg-color);\n",
              "    box-shadow: 0 1px 2px rgba(60, 64, 67, 0.3), 0 1px 3px 1px rgba(60, 64, 67, 0.15);\n",
              "    fill: var(--button-hover-fill-color);\n",
              "  }\n",
              "\n",
              "  .colab-df-quickchart-complete:disabled,\n",
              "  .colab-df-quickchart-complete:disabled:hover {\n",
              "    background-color: var(--disabled-bg-color);\n",
              "    fill: var(--disabled-fill-color);\n",
              "    box-shadow: none;\n",
              "  }\n",
              "\n",
              "  .colab-df-spinner {\n",
              "    border: 2px solid var(--fill-color);\n",
              "    border-color: transparent;\n",
              "    border-bottom-color: var(--fill-color);\n",
              "    animation:\n",
              "      spin 1s steps(1) infinite;\n",
              "  }\n",
              "\n",
              "  @keyframes spin {\n",
              "    0% {\n",
              "      border-color: transparent;\n",
              "      border-bottom-color: var(--fill-color);\n",
              "      border-left-color: var(--fill-color);\n",
              "    }\n",
              "    20% {\n",
              "      border-color: transparent;\n",
              "      border-left-color: var(--fill-color);\n",
              "      border-top-color: var(--fill-color);\n",
              "    }\n",
              "    30% {\n",
              "      border-color: transparent;\n",
              "      border-left-color: var(--fill-color);\n",
              "      border-top-color: var(--fill-color);\n",
              "      border-right-color: var(--fill-color);\n",
              "    }\n",
              "    40% {\n",
              "      border-color: transparent;\n",
              "      border-right-color: var(--fill-color);\n",
              "      border-top-color: var(--fill-color);\n",
              "    }\n",
              "    60% {\n",
              "      border-color: transparent;\n",
              "      border-right-color: var(--fill-color);\n",
              "    }\n",
              "    80% {\n",
              "      border-color: transparent;\n",
              "      border-right-color: var(--fill-color);\n",
              "      border-bottom-color: var(--fill-color);\n",
              "    }\n",
              "    90% {\n",
              "      border-color: transparent;\n",
              "      border-bottom-color: var(--fill-color);\n",
              "    }\n",
              "  }\n",
              "</style>\n",
              "\n",
              "  <script>\n",
              "    async function quickchart(key) {\n",
              "      const quickchartButtonEl =\n",
              "        document.querySelector('#' + key + ' button');\n",
              "      quickchartButtonEl.disabled = true;  // To prevent multiple clicks.\n",
              "      quickchartButtonEl.classList.add('colab-df-spinner');\n",
              "      try {\n",
              "        const charts = await google.colab.kernel.invokeFunction(\n",
              "            'suggestCharts', [key], {});\n",
              "      } catch (error) {\n",
              "        console.error('Error during call to suggestCharts:', error);\n",
              "      }\n",
              "      quickchartButtonEl.classList.remove('colab-df-spinner');\n",
              "      quickchartButtonEl.classList.add('colab-df-quickchart-complete');\n",
              "    }\n",
              "    (() => {\n",
              "      let quickchartButtonEl =\n",
              "        document.querySelector('#df-c61e347b-591e-417b-be5f-b048f8fd4c16 button');\n",
              "      quickchartButtonEl.style.display =\n",
              "        google.colab.kernel.accessAllowed ? 'block' : 'none';\n",
              "    })();\n",
              "  </script>\n",
              "</div>\n",
              "\n",
              "    </div>\n",
              "  </div>\n"
            ]
          },
          "metadata": {},
          "execution_count": 314
        }
      ]
    },
    {
      "cell_type": "code",
      "source": [
        "df.sex.value_counts()"
      ],
      "metadata": {
        "colab": {
          "base_uri": "https://localhost:8080/"
        },
        "id": "K6_o3W91rx0I",
        "outputId": "f51f36d2-278f-456e-daed-152ae4400e14"
      },
      "execution_count": null,
      "outputs": [
        {
          "output_type": "execute_result",
          "data": {
            "text/plain": [
              "male      676\n",
              "female    662\n",
              "Name: sex, dtype: int64"
            ]
          },
          "metadata": {},
          "execution_count": 315
        }
      ]
    },
    {
      "cell_type": "code",
      "source": [
        "df.age.mean()"
      ],
      "metadata": {
        "colab": {
          "base_uri": "https://localhost:8080/"
        },
        "id": "0bOjUc5JsCic",
        "outputId": "9c2e5e2e-9dad-4f3d-ce6d-a3401c4ca1cc"
      },
      "execution_count": null,
      "outputs": [
        {
          "output_type": "execute_result",
          "data": {
            "text/plain": [
              "39.20702541106129"
            ]
          },
          "metadata": {},
          "execution_count": 316
        }
      ]
    },
    {
      "cell_type": "code",
      "source": [
        "df.bmi.mean()"
      ],
      "metadata": {
        "colab": {
          "base_uri": "https://localhost:8080/"
        },
        "id": "z2_YbtVrsGAW",
        "outputId": "41df672f-15cb-4f59-d41d-3dfc926030ad"
      },
      "execution_count": null,
      "outputs": [
        {
          "output_type": "execute_result",
          "data": {
            "text/plain": [
              "30.66339686098655"
            ]
          },
          "metadata": {},
          "execution_count": 317
        }
      ]
    },
    {
      "cell_type": "code",
      "source": [
        "df.children.mean()"
      ],
      "metadata": {
        "colab": {
          "base_uri": "https://localhost:8080/"
        },
        "id": "GQROwqipsLbI",
        "outputId": "c4d395d1-6951-4579-f21d-75e8a47e93ed"
      },
      "execution_count": null,
      "outputs": [
        {
          "output_type": "execute_result",
          "data": {
            "text/plain": [
              "1.0949177877429"
            ]
          },
          "metadata": {},
          "execution_count": 318
        }
      ]
    },
    {
      "cell_type": "code",
      "source": [
        "df.region.value_counts()"
      ],
      "metadata": {
        "colab": {
          "base_uri": "https://localhost:8080/"
        },
        "id": "cXTQdhs1sPXE",
        "outputId": "f05bfcf9-5521-4661-a1af-15a710db94d0"
      },
      "execution_count": null,
      "outputs": [
        {
          "output_type": "execute_result",
          "data": {
            "text/plain": [
              "southeast    364\n",
              "southwest    325\n",
              "northwest    325\n",
              "northeast    324\n",
              "Name: region, dtype: int64"
            ]
          },
          "metadata": {},
          "execution_count": 319
        }
      ]
    },
    {
      "cell_type": "code",
      "source": [
        "from sklearn.preprocessing import LabelEncoder\n",
        "le=LabelEncoder()\n",
        "X[:,1]=le.fit_transform(X[:, 1])"
      ],
      "metadata": {
        "id": "dIbjG8hIsTyQ"
      },
      "execution_count": null,
      "outputs": []
    },
    {
      "cell_type": "code",
      "source": [
        "le=LabelEncoder()\n",
        "X[:,4]=le.fit_transform(X[:, 4])"
      ],
      "metadata": {
        "id": "e1bPqvlxtSqc"
      },
      "execution_count": null,
      "outputs": []
    },
    {
      "cell_type": "code",
      "source": [
        "from sklearn.preprocessing import OneHotEncoder\n",
        "from sklearn.compose import ColumnTransformer\n",
        "ct = ColumnTransformer(transformers=[('encoder', OneHotEncoder(), [5])], remainder='passthrough')\n",
        "X = np.array(ct.fit_transform(X))"
      ],
      "metadata": {
        "id": "JKTrrQrfs8Pj"
      },
      "execution_count": null,
      "outputs": []
    },
    {
      "cell_type": "code",
      "source": [
        "print(X)"
      ],
      "metadata": {
        "colab": {
          "base_uri": "https://localhost:8080/"
        },
        "id": "v2gJ20sVtOYJ",
        "outputId": "7339c1c8-2949-4594-915b-7d12387836a4"
      },
      "execution_count": null,
      "outputs": [
        {
          "output_type": "stream",
          "name": "stdout",
          "text": [
            "[[0.0 0.0 0.0 ... 27.9 0 1]\n",
            " [0.0 0.0 1.0 ... 33.77 1 0]\n",
            " [0.0 0.0 1.0 ... 33.0 3 0]\n",
            " ...\n",
            " [0.0 0.0 1.0 ... 36.85 0 0]\n",
            " [0.0 0.0 0.0 ... 25.8 0 0]\n",
            " [0.0 1.0 0.0 ... 29.07 0 1]]\n"
          ]
        }
      ]
    },
    {
      "cell_type": "code",
      "source": [
        "from sklearn.model_selection import train_test_split\n",
        "X_train, X_test, y_train, y_test = train_test_split(X, y, test_size = 0.2, random_state = 0)"
      ],
      "metadata": {
        "id": "jmu_Br06tPrc"
      },
      "execution_count": null,
      "outputs": []
    },
    {
      "cell_type": "code",
      "source": [
        "from sklearn.preprocessing import StandardScaler\n",
        "sc = StandardScaler()\n",
        "X_train = sc.fit_transform(X_train)\n",
        "X_test = sc.transform(X_test)"
      ],
      "metadata": {
        "id": "CtEch50etjDr"
      },
      "execution_count": null,
      "outputs": []
    },
    {
      "cell_type": "code",
      "source": [
        "ann=tf.keras.models.Sequential()\n"
      ],
      "metadata": {
        "id": "5yKjIfVDto0y"
      },
      "execution_count": null,
      "outputs": []
    },
    {
      "cell_type": "code",
      "source": [
        "ann.add(tf.keras.layers.Dense(units=100, activation='relu'))"
      ],
      "metadata": {
        "id": "NEsVcUCLvGm-"
      },
      "execution_count": null,
      "outputs": []
    },
    {
      "cell_type": "code",
      "source": [
        "ann.add(tf.keras.layers.Dense(units=10, activation='relu'))"
      ],
      "metadata": {
        "id": "eAyFB4sryt_2"
      },
      "execution_count": null,
      "outputs": []
    },
    {
      "cell_type": "code",
      "source": [
        "ann.add(tf.keras.layers.Dense(units=1, activation='relu'))"
      ],
      "metadata": {
        "id": "8tBHYEtevOco"
      },
      "execution_count": null,
      "outputs": []
    },
    {
      "cell_type": "code",
      "source": [
        "ann.compile(optimizer = 'adam', loss = 'mae', metrics = ['mae'],)"
      ],
      "metadata": {
        "id": "SGWI2-3wvVBC"
      },
      "execution_count": null,
      "outputs": []
    },
    {
      "cell_type": "code",
      "source": [
        "history=ann.fit(X_train, y_train, epochs = 300)"
      ],
      "metadata": {
        "colab": {
          "base_uri": "https://localhost:8080/"
        },
        "id": "PiN4uGMBvdJJ",
        "outputId": "d0aea0ed-5ad2-4096-ec08-c30a53404380"
      },
      "execution_count": null,
      "outputs": [
        {
          "output_type": "stream",
          "name": "stdout",
          "text": [
            "Epoch 1/300\n",
            "34/34 [==============================] - 1s 2ms/step - loss: 13200.2012 - mae: 13200.2012\n",
            "Epoch 2/300\n",
            "34/34 [==============================] - 0s 2ms/step - loss: 13197.6387 - mae: 13197.6387\n",
            "Epoch 3/300\n",
            "34/34 [==============================] - 0s 2ms/step - loss: 13193.1143 - mae: 13193.1143\n",
            "Epoch 4/300\n",
            "34/34 [==============================] - 0s 2ms/step - loss: 13185.3330 - mae: 13185.3330\n",
            "Epoch 5/300\n",
            "34/34 [==============================] - 0s 2ms/step - loss: 13172.7725 - mae: 13172.7725\n",
            "Epoch 6/300\n",
            "34/34 [==============================] - 0s 2ms/step - loss: 13153.8467 - mae: 13153.8467\n",
            "Epoch 7/300\n",
            "34/34 [==============================] - 0s 2ms/step - loss: 13126.7686 - mae: 13126.7686\n",
            "Epoch 8/300\n",
            "34/34 [==============================] - 0s 2ms/step - loss: 13089.7979 - mae: 13089.7979\n",
            "Epoch 9/300\n",
            "34/34 [==============================] - 0s 2ms/step - loss: 13041.1797 - mae: 13041.1797\n",
            "Epoch 10/300\n",
            "34/34 [==============================] - 0s 2ms/step - loss: 12979.4277 - mae: 12979.4277\n",
            "Epoch 11/300\n",
            "34/34 [==============================] - 0s 2ms/step - loss: 12903.1133 - mae: 12903.1133\n",
            "Epoch 12/300\n",
            "34/34 [==============================] - 0s 2ms/step - loss: 12811.1172 - mae: 12811.1172\n",
            "Epoch 13/300\n",
            "34/34 [==============================] - 0s 2ms/step - loss: 12701.9180 - mae: 12701.9180\n",
            "Epoch 14/300\n",
            "34/34 [==============================] - 0s 2ms/step - loss: 12574.2695 - mae: 12574.2695\n",
            "Epoch 15/300\n",
            "34/34 [==============================] - 0s 2ms/step - loss: 12428.0146 - mae: 12428.0146\n",
            "Epoch 16/300\n",
            "34/34 [==============================] - 0s 2ms/step - loss: 12262.6641 - mae: 12262.6641\n",
            "Epoch 17/300\n",
            "34/34 [==============================] - 0s 2ms/step - loss: 12078.6289 - mae: 12078.6289\n",
            "Epoch 18/300\n",
            "34/34 [==============================] - 0s 2ms/step - loss: 11876.7236 - mae: 11876.7236\n",
            "Epoch 19/300\n",
            "34/34 [==============================] - 0s 2ms/step - loss: 11662.1777 - mae: 11662.1777\n",
            "Epoch 20/300\n",
            "34/34 [==============================] - 0s 2ms/step - loss: 11438.2285 - mae: 11438.2285\n",
            "Epoch 21/300\n",
            "34/34 [==============================] - 0s 2ms/step - loss: 11203.8018 - mae: 11203.8018\n",
            "Epoch 22/300\n",
            "34/34 [==============================] - 0s 2ms/step - loss: 10959.3330 - mae: 10959.3330\n",
            "Epoch 23/300\n",
            "34/34 [==============================] - 0s 4ms/step - loss: 10704.1973 - mae: 10704.1973\n",
            "Epoch 24/300\n",
            "34/34 [==============================] - 0s 3ms/step - loss: 10438.5703 - mae: 10438.5703\n",
            "Epoch 25/300\n",
            "34/34 [==============================] - 0s 3ms/step - loss: 10165.8525 - mae: 10165.8525\n",
            "Epoch 26/300\n",
            "34/34 [==============================] - 0s 3ms/step - loss: 9886.4922 - mae: 9886.4922\n",
            "Epoch 27/300\n",
            "34/34 [==============================] - 0s 3ms/step - loss: 9595.3789 - mae: 9595.3789\n",
            "Epoch 28/300\n",
            "34/34 [==============================] - 0s 3ms/step - loss: 9296.4033 - mae: 9296.4033\n",
            "Epoch 29/300\n",
            "34/34 [==============================] - 0s 3ms/step - loss: 9001.0400 - mae: 9001.0400\n",
            "Epoch 30/300\n",
            "34/34 [==============================] - 0s 3ms/step - loss: 8705.3350 - mae: 8705.3350\n",
            "Epoch 31/300\n",
            "34/34 [==============================] - 0s 4ms/step - loss: 8413.5186 - mae: 8413.5186\n",
            "Epoch 32/300\n",
            "34/34 [==============================] - 0s 4ms/step - loss: 8127.1084 - mae: 8127.1084\n",
            "Epoch 33/300\n",
            "34/34 [==============================] - 0s 3ms/step - loss: 7860.0327 - mae: 7860.0327\n",
            "Epoch 34/300\n",
            "34/34 [==============================] - 0s 3ms/step - loss: 7601.5923 - mae: 7601.5923\n",
            "Epoch 35/300\n",
            "34/34 [==============================] - 0s 3ms/step - loss: 7355.8467 - mae: 7355.8467\n",
            "Epoch 36/300\n",
            "34/34 [==============================] - 0s 4ms/step - loss: 7117.3677 - mae: 7117.3677\n",
            "Epoch 37/300\n",
            "34/34 [==============================] - 0s 3ms/step - loss: 6892.2085 - mae: 6892.2085\n",
            "Epoch 38/300\n",
            "34/34 [==============================] - 0s 4ms/step - loss: 6674.7456 - mae: 6674.7456\n",
            "Epoch 39/300\n",
            "34/34 [==============================] - 0s 3ms/step - loss: 6473.6470 - mae: 6473.6470\n",
            "Epoch 40/300\n",
            "34/34 [==============================] - 0s 3ms/step - loss: 6286.7549 - mae: 6286.7549\n",
            "Epoch 41/300\n",
            "34/34 [==============================] - 0s 3ms/step - loss: 6106.3730 - mae: 6106.3730\n",
            "Epoch 42/300\n",
            "34/34 [==============================] - 0s 3ms/step - loss: 5937.0767 - mae: 5937.0767\n",
            "Epoch 43/300\n",
            "34/34 [==============================] - 0s 3ms/step - loss: 5776.6157 - mae: 5776.6157\n",
            "Epoch 44/300\n",
            "34/34 [==============================] - 0s 3ms/step - loss: 5618.9536 - mae: 5618.9536\n",
            "Epoch 45/300\n",
            "34/34 [==============================] - 0s 3ms/step - loss: 5465.5054 - mae: 5465.5054\n",
            "Epoch 46/300\n",
            "34/34 [==============================] - 0s 3ms/step - loss: 5313.0254 - mae: 5313.0254\n",
            "Epoch 47/300\n",
            "34/34 [==============================] - 0s 3ms/step - loss: 5160.7808 - mae: 5160.7808\n",
            "Epoch 48/300\n",
            "34/34 [==============================] - 0s 3ms/step - loss: 5008.2583 - mae: 5008.2583\n",
            "Epoch 49/300\n",
            "34/34 [==============================] - 0s 4ms/step - loss: 4856.0742 - mae: 4856.0742\n",
            "Epoch 50/300\n",
            "34/34 [==============================] - 0s 3ms/step - loss: 4702.9683 - mae: 4702.9683\n",
            "Epoch 51/300\n",
            "34/34 [==============================] - 0s 2ms/step - loss: 4561.5674 - mae: 4561.5674\n",
            "Epoch 52/300\n",
            "34/34 [==============================] - 0s 3ms/step - loss: 4423.2852 - mae: 4423.2852\n",
            "Epoch 53/300\n",
            "34/34 [==============================] - 0s 3ms/step - loss: 4291.8013 - mae: 4291.8013\n",
            "Epoch 54/300\n",
            "34/34 [==============================] - 0s 3ms/step - loss: 4174.9067 - mae: 4174.9067\n",
            "Epoch 55/300\n",
            "34/34 [==============================] - 0s 4ms/step - loss: 4070.9709 - mae: 4070.9709\n",
            "Epoch 56/300\n",
            "34/34 [==============================] - 0s 4ms/step - loss: 3978.5225 - mae: 3978.5225\n",
            "Epoch 57/300\n",
            "34/34 [==============================] - 0s 2ms/step - loss: 3902.6304 - mae: 3902.6304\n",
            "Epoch 58/300\n",
            "34/34 [==============================] - 0s 2ms/step - loss: 3843.0784 - mae: 3843.0784\n",
            "Epoch 59/300\n",
            "34/34 [==============================] - 0s 2ms/step - loss: 3794.9214 - mae: 3794.9214\n",
            "Epoch 60/300\n",
            "34/34 [==============================] - 0s 2ms/step - loss: 3755.1592 - mae: 3755.1592\n",
            "Epoch 61/300\n",
            "34/34 [==============================] - 0s 2ms/step - loss: 3719.0305 - mae: 3719.0305\n",
            "Epoch 62/300\n",
            "34/34 [==============================] - 0s 2ms/step - loss: 3685.8918 - mae: 3685.8918\n",
            "Epoch 63/300\n",
            "34/34 [==============================] - 0s 2ms/step - loss: 3654.6667 - mae: 3654.6667\n",
            "Epoch 64/300\n",
            "34/34 [==============================] - 0s 2ms/step - loss: 3629.9639 - mae: 3629.9639\n",
            "Epoch 65/300\n",
            "34/34 [==============================] - 0s 2ms/step - loss: 3605.4475 - mae: 3605.4475\n",
            "Epoch 66/300\n",
            "34/34 [==============================] - 0s 2ms/step - loss: 3586.1450 - mae: 3586.1450\n",
            "Epoch 67/300\n",
            "34/34 [==============================] - 0s 2ms/step - loss: 3567.9880 - mae: 3567.9880\n",
            "Epoch 68/300\n",
            "34/34 [==============================] - 0s 2ms/step - loss: 3552.7793 - mae: 3552.7793\n",
            "Epoch 69/300\n",
            "34/34 [==============================] - 0s 2ms/step - loss: 3536.6108 - mae: 3536.6108\n",
            "Epoch 70/300\n",
            "34/34 [==============================] - 0s 2ms/step - loss: 3521.7976 - mae: 3521.7976\n",
            "Epoch 71/300\n",
            "34/34 [==============================] - 0s 3ms/step - loss: 3506.9900 - mae: 3506.9900\n",
            "Epoch 72/300\n",
            "34/34 [==============================] - 0s 3ms/step - loss: 3494.4902 - mae: 3494.4902\n",
            "Epoch 73/300\n",
            "34/34 [==============================] - 0s 2ms/step - loss: 3481.0593 - mae: 3481.0593\n",
            "Epoch 74/300\n",
            "34/34 [==============================] - 0s 2ms/step - loss: 3469.5400 - mae: 3469.5400\n",
            "Epoch 75/300\n",
            "34/34 [==============================] - 0s 2ms/step - loss: 3459.7949 - mae: 3459.7949\n",
            "Epoch 76/300\n",
            "34/34 [==============================] - 0s 2ms/step - loss: 3448.9048 - mae: 3448.9048\n",
            "Epoch 77/300\n",
            "34/34 [==============================] - 0s 2ms/step - loss: 3438.8225 - mae: 3438.8225\n",
            "Epoch 78/300\n",
            "34/34 [==============================] - 0s 2ms/step - loss: 3427.5747 - mae: 3427.5747\n",
            "Epoch 79/300\n",
            "34/34 [==============================] - 0s 2ms/step - loss: 3418.0635 - mae: 3418.0635\n",
            "Epoch 80/300\n",
            "34/34 [==============================] - 0s 2ms/step - loss: 3407.7661 - mae: 3407.7661\n",
            "Epoch 81/300\n",
            "34/34 [==============================] - 0s 2ms/step - loss: 3399.1260 - mae: 3399.1260\n",
            "Epoch 82/300\n",
            "34/34 [==============================] - 0s 2ms/step - loss: 3389.4148 - mae: 3389.4148\n",
            "Epoch 83/300\n",
            "34/34 [==============================] - 0s 2ms/step - loss: 3382.0649 - mae: 3382.0649\n",
            "Epoch 84/300\n",
            "34/34 [==============================] - 0s 2ms/step - loss: 3373.9707 - mae: 3373.9707\n",
            "Epoch 85/300\n",
            "34/34 [==============================] - 0s 2ms/step - loss: 3367.7900 - mae: 3367.7900\n",
            "Epoch 86/300\n",
            "34/34 [==============================] - 0s 2ms/step - loss: 3361.8113 - mae: 3361.8113\n",
            "Epoch 87/300\n",
            "34/34 [==============================] - 0s 2ms/step - loss: 3355.8918 - mae: 3355.8918\n",
            "Epoch 88/300\n",
            "34/34 [==============================] - 0s 2ms/step - loss: 3351.2708 - mae: 3351.2708\n",
            "Epoch 89/300\n",
            "34/34 [==============================] - 0s 2ms/step - loss: 3346.4719 - mae: 3346.4719\n",
            "Epoch 90/300\n",
            "34/34 [==============================] - 0s 2ms/step - loss: 3342.5684 - mae: 3342.5684\n",
            "Epoch 91/300\n",
            "34/34 [==============================] - 0s 2ms/step - loss: 3336.3669 - mae: 3336.3669\n",
            "Epoch 92/300\n",
            "34/34 [==============================] - 0s 2ms/step - loss: 3331.8887 - mae: 3331.8887\n",
            "Epoch 93/300\n",
            "34/34 [==============================] - 0s 2ms/step - loss: 3327.7866 - mae: 3327.7866\n",
            "Epoch 94/300\n",
            "34/34 [==============================] - 0s 2ms/step - loss: 3324.4299 - mae: 3324.4299\n",
            "Epoch 95/300\n",
            "34/34 [==============================] - 0s 2ms/step - loss: 3319.8142 - mae: 3319.8142\n",
            "Epoch 96/300\n",
            "34/34 [==============================] - 0s 3ms/step - loss: 3315.2522 - mae: 3315.2522\n",
            "Epoch 97/300\n",
            "34/34 [==============================] - 0s 2ms/step - loss: 3311.1729 - mae: 3311.1729\n",
            "Epoch 98/300\n",
            "34/34 [==============================] - 0s 2ms/step - loss: 3307.2783 - mae: 3307.2783\n",
            "Epoch 99/300\n",
            "34/34 [==============================] - 0s 2ms/step - loss: 3302.6160 - mae: 3302.6160\n",
            "Epoch 100/300\n",
            "34/34 [==============================] - 0s 2ms/step - loss: 3299.3132 - mae: 3299.3132\n",
            "Epoch 101/300\n",
            "34/34 [==============================] - 0s 2ms/step - loss: 3295.1763 - mae: 3295.1763\n",
            "Epoch 102/300\n",
            "34/34 [==============================] - 0s 2ms/step - loss: 3291.6843 - mae: 3291.6843\n",
            "Epoch 103/300\n",
            "34/34 [==============================] - 0s 2ms/step - loss: 3287.4905 - mae: 3287.4905\n",
            "Epoch 104/300\n",
            "34/34 [==============================] - 0s 2ms/step - loss: 3284.7202 - mae: 3284.7202\n",
            "Epoch 105/300\n",
            "34/34 [==============================] - 0s 2ms/step - loss: 3279.1138 - mae: 3279.1138\n",
            "Epoch 106/300\n",
            "34/34 [==============================] - 0s 2ms/step - loss: 3275.6523 - mae: 3275.6523\n",
            "Epoch 107/300\n",
            "34/34 [==============================] - 0s 2ms/step - loss: 3271.1929 - mae: 3271.1929\n",
            "Epoch 108/300\n",
            "34/34 [==============================] - 0s 2ms/step - loss: 3266.7126 - mae: 3266.7126\n",
            "Epoch 109/300\n",
            "34/34 [==============================] - 0s 2ms/step - loss: 3263.7954 - mae: 3263.7954\n",
            "Epoch 110/300\n",
            "34/34 [==============================] - 0s 2ms/step - loss: 3260.2437 - mae: 3260.2437\n",
            "Epoch 111/300\n",
            "34/34 [==============================] - 0s 2ms/step - loss: 3256.2402 - mae: 3256.2402\n",
            "Epoch 112/300\n",
            "34/34 [==============================] - 0s 2ms/step - loss: 3253.4006 - mae: 3253.4006\n",
            "Epoch 113/300\n",
            "34/34 [==============================] - 0s 3ms/step - loss: 3248.0862 - mae: 3248.0862\n",
            "Epoch 114/300\n",
            "34/34 [==============================] - 0s 2ms/step - loss: 3244.5986 - mae: 3244.5986\n",
            "Epoch 115/300\n",
            "34/34 [==============================] - 0s 2ms/step - loss: 3240.6809 - mae: 3240.6809\n",
            "Epoch 116/300\n",
            "34/34 [==============================] - 0s 2ms/step - loss: 3237.9292 - mae: 3237.9292\n",
            "Epoch 117/300\n",
            "34/34 [==============================] - 0s 2ms/step - loss: 3234.3450 - mae: 3234.3450\n",
            "Epoch 118/300\n",
            "34/34 [==============================] - 0s 2ms/step - loss: 3230.8528 - mae: 3230.8528\n",
            "Epoch 119/300\n",
            "34/34 [==============================] - 0s 2ms/step - loss: 3226.8118 - mae: 3226.8118\n",
            "Epoch 120/300\n",
            "34/34 [==============================] - 0s 3ms/step - loss: 3223.4365 - mae: 3223.4365\n",
            "Epoch 121/300\n",
            "34/34 [==============================] - 0s 2ms/step - loss: 3219.0916 - mae: 3219.0916\n",
            "Epoch 122/300\n",
            "34/34 [==============================] - 0s 2ms/step - loss: 3215.5374 - mae: 3215.5374\n",
            "Epoch 123/300\n",
            "34/34 [==============================] - 0s 2ms/step - loss: 3211.8865 - mae: 3211.8865\n",
            "Epoch 124/300\n",
            "34/34 [==============================] - 0s 2ms/step - loss: 3209.9429 - mae: 3209.9429\n",
            "Epoch 125/300\n",
            "34/34 [==============================] - 0s 2ms/step - loss: 3205.8623 - mae: 3205.8623\n",
            "Epoch 126/300\n",
            "34/34 [==============================] - 0s 2ms/step - loss: 3201.8237 - mae: 3201.8237\n",
            "Epoch 127/300\n",
            "34/34 [==============================] - 0s 2ms/step - loss: 3198.5842 - mae: 3198.5842\n",
            "Epoch 128/300\n",
            "34/34 [==============================] - 0s 2ms/step - loss: 3195.0469 - mae: 3195.0469\n",
            "Epoch 129/300\n",
            "34/34 [==============================] - 0s 2ms/step - loss: 3190.8525 - mae: 3190.8525\n",
            "Epoch 130/300\n",
            "34/34 [==============================] - 0s 2ms/step - loss: 3187.5364 - mae: 3187.5364\n",
            "Epoch 131/300\n",
            "34/34 [==============================] - 0s 2ms/step - loss: 3183.6301 - mae: 3183.6301\n",
            "Epoch 132/300\n",
            "34/34 [==============================] - 0s 2ms/step - loss: 3179.8201 - mae: 3179.8201\n",
            "Epoch 133/300\n",
            "34/34 [==============================] - 0s 2ms/step - loss: 3176.9250 - mae: 3176.9250\n",
            "Epoch 134/300\n",
            "34/34 [==============================] - 0s 2ms/step - loss: 3172.5203 - mae: 3172.5203\n",
            "Epoch 135/300\n",
            "34/34 [==============================] - 0s 2ms/step - loss: 3169.5889 - mae: 3169.5889\n",
            "Epoch 136/300\n",
            "34/34 [==============================] - 0s 2ms/step - loss: 3165.6726 - mae: 3165.6726\n",
            "Epoch 137/300\n",
            "34/34 [==============================] - 0s 2ms/step - loss: 3161.8215 - mae: 3161.8215\n",
            "Epoch 138/300\n",
            "34/34 [==============================] - 0s 2ms/step - loss: 3158.9626 - mae: 3158.9626\n",
            "Epoch 139/300\n",
            "34/34 [==============================] - 0s 2ms/step - loss: 3155.4146 - mae: 3155.4146\n",
            "Epoch 140/300\n",
            "34/34 [==============================] - 0s 2ms/step - loss: 3151.3550 - mae: 3151.3550\n",
            "Epoch 141/300\n",
            "34/34 [==============================] - 0s 2ms/step - loss: 3147.3601 - mae: 3147.3601\n",
            "Epoch 142/300\n",
            "34/34 [==============================] - 0s 2ms/step - loss: 3142.9961 - mae: 3142.9961\n",
            "Epoch 143/300\n",
            "34/34 [==============================] - 0s 2ms/step - loss: 3139.7705 - mae: 3139.7705\n",
            "Epoch 144/300\n",
            "34/34 [==============================] - 0s 2ms/step - loss: 3136.3743 - mae: 3136.3743\n",
            "Epoch 145/300\n",
            "34/34 [==============================] - 0s 3ms/step - loss: 3133.1040 - mae: 3133.1040\n",
            "Epoch 146/300\n",
            "34/34 [==============================] - 0s 2ms/step - loss: 3127.5876 - mae: 3127.5876\n",
            "Epoch 147/300\n",
            "34/34 [==============================] - 0s 2ms/step - loss: 3124.3083 - mae: 3124.3081\n",
            "Epoch 148/300\n",
            "34/34 [==============================] - 0s 2ms/step - loss: 3121.2744 - mae: 3121.2744\n",
            "Epoch 149/300\n",
            "34/34 [==============================] - 0s 2ms/step - loss: 3116.2986 - mae: 3116.2986\n",
            "Epoch 150/300\n",
            "34/34 [==============================] - 0s 2ms/step - loss: 3113.3066 - mae: 3113.3066\n",
            "Epoch 151/300\n",
            "34/34 [==============================] - 0s 2ms/step - loss: 3109.7405 - mae: 3109.7405\n",
            "Epoch 152/300\n",
            "34/34 [==============================] - 0s 2ms/step - loss: 3104.7605 - mae: 3104.7605\n",
            "Epoch 153/300\n",
            "34/34 [==============================] - 0s 2ms/step - loss: 3101.9534 - mae: 3101.9534\n",
            "Epoch 154/300\n",
            "34/34 [==============================] - 0s 2ms/step - loss: 3098.1309 - mae: 3098.1309\n",
            "Epoch 155/300\n",
            "34/34 [==============================] - 0s 2ms/step - loss: 3094.5537 - mae: 3094.5537\n",
            "Epoch 156/300\n",
            "34/34 [==============================] - 0s 2ms/step - loss: 3091.5525 - mae: 3091.5525\n",
            "Epoch 157/300\n",
            "34/34 [==============================] - 0s 2ms/step - loss: 3088.1394 - mae: 3088.1394\n",
            "Epoch 158/300\n",
            "34/34 [==============================] - 0s 2ms/step - loss: 3083.8315 - mae: 3083.8315\n",
            "Epoch 159/300\n",
            "34/34 [==============================] - 0s 2ms/step - loss: 3081.4680 - mae: 3081.4680\n",
            "Epoch 160/300\n",
            "34/34 [==============================] - 0s 2ms/step - loss: 3078.6553 - mae: 3078.6553\n",
            "Epoch 161/300\n",
            "34/34 [==============================] - 0s 2ms/step - loss: 3075.8271 - mae: 3075.8271\n",
            "Epoch 162/300\n",
            "34/34 [==============================] - 0s 2ms/step - loss: 3073.8140 - mae: 3073.8140\n",
            "Epoch 163/300\n",
            "34/34 [==============================] - 0s 2ms/step - loss: 3070.9639 - mae: 3070.9639\n",
            "Epoch 164/300\n",
            "34/34 [==============================] - 0s 2ms/step - loss: 3069.0547 - mae: 3069.0547\n",
            "Epoch 165/300\n",
            "34/34 [==============================] - 0s 2ms/step - loss: 3065.8770 - mae: 3065.8770\n",
            "Epoch 166/300\n",
            "34/34 [==============================] - 0s 2ms/step - loss: 3064.1001 - mae: 3064.1001\n",
            "Epoch 167/300\n",
            "34/34 [==============================] - 0s 2ms/step - loss: 3062.0288 - mae: 3062.0288\n",
            "Epoch 168/300\n",
            "34/34 [==============================] - 0s 2ms/step - loss: 3059.9536 - mae: 3059.9536\n",
            "Epoch 169/300\n",
            "34/34 [==============================] - 0s 2ms/step - loss: 3055.8701 - mae: 3055.8701\n",
            "Epoch 170/300\n",
            "34/34 [==============================] - 0s 3ms/step - loss: 3054.0354 - mae: 3054.0354\n",
            "Epoch 171/300\n",
            "34/34 [==============================] - 0s 2ms/step - loss: 3051.1331 - mae: 3051.1331\n",
            "Epoch 172/300\n",
            "34/34 [==============================] - 0s 2ms/step - loss: 3048.7231 - mae: 3048.7231\n",
            "Epoch 173/300\n",
            "34/34 [==============================] - 0s 2ms/step - loss: 3046.8982 - mae: 3046.8982\n",
            "Epoch 174/300\n",
            "34/34 [==============================] - 0s 2ms/step - loss: 3044.5488 - mae: 3044.5488\n",
            "Epoch 175/300\n",
            "34/34 [==============================] - 0s 2ms/step - loss: 3042.1621 - mae: 3042.1621\n",
            "Epoch 176/300\n",
            "34/34 [==============================] - 0s 2ms/step - loss: 3040.1677 - mae: 3040.1677\n",
            "Epoch 177/300\n",
            "34/34 [==============================] - 0s 4ms/step - loss: 3037.2471 - mae: 3037.2471\n",
            "Epoch 178/300\n",
            "34/34 [==============================] - 0s 3ms/step - loss: 3035.6226 - mae: 3035.6226\n",
            "Epoch 179/300\n",
            "34/34 [==============================] - 0s 3ms/step - loss: 3034.0718 - mae: 3034.0718\n",
            "Epoch 180/300\n",
            "34/34 [==============================] - 0s 3ms/step - loss: 3031.4294 - mae: 3031.4294\n",
            "Epoch 181/300\n",
            "34/34 [==============================] - 0s 4ms/step - loss: 3029.4551 - mae: 3029.4551\n",
            "Epoch 182/300\n",
            "34/34 [==============================] - 0s 3ms/step - loss: 3026.8525 - mae: 3026.8525\n",
            "Epoch 183/300\n",
            "34/34 [==============================] - 0s 3ms/step - loss: 3024.8235 - mae: 3024.8235\n",
            "Epoch 184/300\n",
            "34/34 [==============================] - 0s 3ms/step - loss: 3021.8049 - mae: 3021.8049\n",
            "Epoch 185/300\n",
            "34/34 [==============================] - 0s 4ms/step - loss: 3020.6487 - mae: 3020.6487\n",
            "Epoch 186/300\n",
            "34/34 [==============================] - 0s 3ms/step - loss: 3017.5508 - mae: 3017.5508\n",
            "Epoch 187/300\n",
            "34/34 [==============================] - 0s 3ms/step - loss: 3015.2412 - mae: 3015.2412\n",
            "Epoch 188/300\n",
            "34/34 [==============================] - 0s 3ms/step - loss: 3014.8252 - mae: 3014.8252\n",
            "Epoch 189/300\n",
            "34/34 [==============================] - 0s 3ms/step - loss: 3010.9424 - mae: 3010.9424\n",
            "Epoch 190/300\n",
            "34/34 [==============================] - 0s 4ms/step - loss: 3008.6638 - mae: 3008.6638\n",
            "Epoch 191/300\n",
            "34/34 [==============================] - 0s 3ms/step - loss: 3006.2292 - mae: 3006.2292\n",
            "Epoch 192/300\n",
            "34/34 [==============================] - 0s 3ms/step - loss: 3004.4707 - mae: 3004.4707\n",
            "Epoch 193/300\n",
            "34/34 [==============================] - 0s 4ms/step - loss: 3001.7485 - mae: 3001.7485\n",
            "Epoch 194/300\n",
            "34/34 [==============================] - 0s 3ms/step - loss: 2999.4658 - mae: 2999.4658\n",
            "Epoch 195/300\n",
            "34/34 [==============================] - 0s 3ms/step - loss: 2997.0886 - mae: 2997.0886\n",
            "Epoch 196/300\n",
            "34/34 [==============================] - 0s 3ms/step - loss: 2995.1611 - mae: 2995.1611\n",
            "Epoch 197/300\n",
            "34/34 [==============================] - 0s 3ms/step - loss: 2992.5906 - mae: 2992.5906\n",
            "Epoch 198/300\n",
            "34/34 [==============================] - 0s 3ms/step - loss: 2989.7156 - mae: 2989.7156\n",
            "Epoch 199/300\n",
            "34/34 [==============================] - 0s 3ms/step - loss: 2988.3291 - mae: 2988.3291\n",
            "Epoch 200/300\n",
            "34/34 [==============================] - 0s 3ms/step - loss: 2985.6726 - mae: 2985.6726\n",
            "Epoch 201/300\n",
            "34/34 [==============================] - 0s 3ms/step - loss: 2983.2834 - mae: 2983.2834\n",
            "Epoch 202/300\n",
            "34/34 [==============================] - 0s 3ms/step - loss: 2979.6965 - mae: 2979.6965\n",
            "Epoch 203/300\n",
            "34/34 [==============================] - 0s 3ms/step - loss: 2977.2190 - mae: 2977.2190\n",
            "Epoch 204/300\n",
            "34/34 [==============================] - 0s 3ms/step - loss: 2974.5027 - mae: 2974.5027\n",
            "Epoch 205/300\n",
            "34/34 [==============================] - 0s 3ms/step - loss: 2971.4966 - mae: 2971.4966\n",
            "Epoch 206/300\n",
            "34/34 [==============================] - 0s 3ms/step - loss: 2969.6030 - mae: 2969.6030\n",
            "Epoch 207/300\n",
            "34/34 [==============================] - 0s 3ms/step - loss: 2967.6477 - mae: 2967.6477\n",
            "Epoch 208/300\n",
            "34/34 [==============================] - 0s 3ms/step - loss: 2963.6208 - mae: 2963.6208\n",
            "Epoch 209/300\n",
            "34/34 [==============================] - 0s 4ms/step - loss: 2960.8269 - mae: 2960.8269\n",
            "Epoch 210/300\n",
            "34/34 [==============================] - 0s 3ms/step - loss: 2959.0017 - mae: 2959.0017\n",
            "Epoch 211/300\n",
            "34/34 [==============================] - 0s 3ms/step - loss: 2955.2266 - mae: 2955.2266\n",
            "Epoch 212/300\n",
            "34/34 [==============================] - 0s 3ms/step - loss: 2954.0840 - mae: 2954.0840\n",
            "Epoch 213/300\n",
            "34/34 [==============================] - 0s 3ms/step - loss: 2951.0625 - mae: 2951.0625\n",
            "Epoch 214/300\n",
            "34/34 [==============================] - 0s 2ms/step - loss: 2947.0210 - mae: 2947.0210\n",
            "Epoch 215/300\n",
            "34/34 [==============================] - 0s 2ms/step - loss: 2944.7300 - mae: 2944.7300\n",
            "Epoch 216/300\n",
            "34/34 [==============================] - 0s 2ms/step - loss: 2942.3247 - mae: 2942.3247\n",
            "Epoch 217/300\n",
            "34/34 [==============================] - 0s 2ms/step - loss: 2938.2583 - mae: 2938.2583\n",
            "Epoch 218/300\n",
            "34/34 [==============================] - 0s 2ms/step - loss: 2935.6509 - mae: 2935.6509\n",
            "Epoch 219/300\n",
            "34/34 [==============================] - 0s 2ms/step - loss: 2932.4324 - mae: 2932.4324\n",
            "Epoch 220/300\n",
            "34/34 [==============================] - 0s 3ms/step - loss: 2932.1331 - mae: 2932.1331\n",
            "Epoch 221/300\n",
            "34/34 [==============================] - 0s 2ms/step - loss: 2928.7834 - mae: 2928.7834\n",
            "Epoch 222/300\n",
            "34/34 [==============================] - 0s 2ms/step - loss: 2923.9238 - mae: 2923.9238\n",
            "Epoch 223/300\n",
            "34/34 [==============================] - 0s 2ms/step - loss: 2920.2686 - mae: 2920.2686\n",
            "Epoch 224/300\n",
            "34/34 [==============================] - 0s 2ms/step - loss: 2917.5271 - mae: 2917.5271\n",
            "Epoch 225/300\n",
            "34/34 [==============================] - 0s 2ms/step - loss: 2914.0242 - mae: 2914.0242\n",
            "Epoch 226/300\n",
            "34/34 [==============================] - 0s 2ms/step - loss: 2910.6357 - mae: 2910.6357\n",
            "Epoch 227/300\n",
            "34/34 [==============================] - 0s 2ms/step - loss: 2907.8511 - mae: 2907.8511\n",
            "Epoch 228/300\n",
            "34/34 [==============================] - 0s 2ms/step - loss: 2904.6101 - mae: 2904.6101\n",
            "Epoch 229/300\n",
            "34/34 [==============================] - 0s 2ms/step - loss: 2901.6360 - mae: 2901.6360\n",
            "Epoch 230/300\n",
            "34/34 [==============================] - 0s 2ms/step - loss: 2898.7236 - mae: 2898.7236\n",
            "Epoch 231/300\n",
            "34/34 [==============================] - 0s 2ms/step - loss: 2895.1936 - mae: 2895.1936\n",
            "Epoch 232/300\n",
            "34/34 [==============================] - 0s 2ms/step - loss: 2891.5222 - mae: 2891.5222\n",
            "Epoch 233/300\n",
            "34/34 [==============================] - 0s 2ms/step - loss: 2889.3274 - mae: 2889.3274\n",
            "Epoch 234/300\n",
            "34/34 [==============================] - 0s 2ms/step - loss: 2885.2463 - mae: 2885.2463\n",
            "Epoch 235/300\n",
            "34/34 [==============================] - 0s 2ms/step - loss: 2880.4993 - mae: 2880.4993\n",
            "Epoch 236/300\n",
            "34/34 [==============================] - 0s 2ms/step - loss: 2878.4924 - mae: 2878.4924\n",
            "Epoch 237/300\n",
            "34/34 [==============================] - 0s 3ms/step - loss: 2875.4429 - mae: 2875.4429\n",
            "Epoch 238/300\n",
            "34/34 [==============================] - 0s 2ms/step - loss: 2871.1931 - mae: 2871.1931\n",
            "Epoch 239/300\n",
            "34/34 [==============================] - 0s 2ms/step - loss: 2867.2986 - mae: 2867.2986\n",
            "Epoch 240/300\n",
            "34/34 [==============================] - 0s 2ms/step - loss: 2863.9507 - mae: 2863.9507\n",
            "Epoch 241/300\n",
            "34/34 [==============================] - 0s 2ms/step - loss: 2860.8025 - mae: 2860.8025\n",
            "Epoch 242/300\n",
            "34/34 [==============================] - 0s 2ms/step - loss: 2857.6548 - mae: 2857.6548\n",
            "Epoch 243/300\n",
            "34/34 [==============================] - 0s 2ms/step - loss: 2853.2578 - mae: 2853.2578\n",
            "Epoch 244/300\n",
            "34/34 [==============================] - 0s 3ms/step - loss: 2848.4790 - mae: 2848.4790\n",
            "Epoch 245/300\n",
            "34/34 [==============================] - 0s 2ms/step - loss: 2844.8831 - mae: 2844.8831\n",
            "Epoch 246/300\n",
            "34/34 [==============================] - 0s 2ms/step - loss: 2841.8525 - mae: 2841.8525\n",
            "Epoch 247/300\n",
            "34/34 [==============================] - 0s 2ms/step - loss: 2837.5007 - mae: 2837.5007\n",
            "Epoch 248/300\n",
            "34/34 [==============================] - 0s 2ms/step - loss: 2834.0161 - mae: 2834.0161\n",
            "Epoch 249/300\n",
            "34/34 [==============================] - 0s 2ms/step - loss: 2829.7795 - mae: 2829.7795\n",
            "Epoch 250/300\n",
            "34/34 [==============================] - 0s 2ms/step - loss: 2825.5413 - mae: 2825.5413\n",
            "Epoch 251/300\n",
            "34/34 [==============================] - 0s 3ms/step - loss: 2822.3840 - mae: 2822.3840\n",
            "Epoch 252/300\n",
            "34/34 [==============================] - 0s 2ms/step - loss: 2819.3225 - mae: 2819.3225\n",
            "Epoch 253/300\n",
            "34/34 [==============================] - 0s 3ms/step - loss: 2815.9380 - mae: 2815.9380\n",
            "Epoch 254/300\n",
            "34/34 [==============================] - 0s 2ms/step - loss: 2812.1184 - mae: 2812.1184\n",
            "Epoch 255/300\n",
            "34/34 [==============================] - 0s 3ms/step - loss: 2806.8635 - mae: 2806.8635\n",
            "Epoch 256/300\n",
            "34/34 [==============================] - 0s 2ms/step - loss: 2803.3965 - mae: 2803.3965\n",
            "Epoch 257/300\n",
            "34/34 [==============================] - 0s 2ms/step - loss: 2798.5515 - mae: 2798.5515\n",
            "Epoch 258/300\n",
            "34/34 [==============================] - 0s 2ms/step - loss: 2794.9404 - mae: 2794.9404\n",
            "Epoch 259/300\n",
            "34/34 [==============================] - 0s 2ms/step - loss: 2791.6069 - mae: 2791.6069\n",
            "Epoch 260/300\n",
            "34/34 [==============================] - 0s 2ms/step - loss: 2786.6604 - mae: 2786.6604\n",
            "Epoch 261/300\n",
            "34/34 [==============================] - 0s 2ms/step - loss: 2783.2124 - mae: 2783.2124\n",
            "Epoch 262/300\n",
            "34/34 [==============================] - 0s 2ms/step - loss: 2778.6360 - mae: 2778.6360\n",
            "Epoch 263/300\n",
            "34/34 [==============================] - 0s 2ms/step - loss: 2774.0952 - mae: 2774.0952\n",
            "Epoch 264/300\n",
            "34/34 [==============================] - 0s 2ms/step - loss: 2769.7556 - mae: 2769.7556\n",
            "Epoch 265/300\n",
            "34/34 [==============================] - 0s 2ms/step - loss: 2765.6350 - mae: 2765.6350\n",
            "Epoch 266/300\n",
            "34/34 [==============================] - 0s 2ms/step - loss: 2762.4868 - mae: 2762.4868\n",
            "Epoch 267/300\n",
            "34/34 [==============================] - 0s 3ms/step - loss: 2757.9185 - mae: 2757.9185\n",
            "Epoch 268/300\n",
            "34/34 [==============================] - 0s 2ms/step - loss: 2752.9114 - mae: 2752.9114\n",
            "Epoch 269/300\n",
            "34/34 [==============================] - 0s 2ms/step - loss: 2749.4463 - mae: 2749.4463\n",
            "Epoch 270/300\n",
            "34/34 [==============================] - 0s 2ms/step - loss: 2746.2993 - mae: 2746.2993\n",
            "Epoch 271/300\n",
            "34/34 [==============================] - 0s 3ms/step - loss: 2740.3884 - mae: 2740.3884\n",
            "Epoch 272/300\n",
            "34/34 [==============================] - 0s 2ms/step - loss: 2737.2583 - mae: 2737.2583\n",
            "Epoch 273/300\n",
            "34/34 [==============================] - 0s 2ms/step - loss: 2730.8372 - mae: 2730.8372\n",
            "Epoch 274/300\n",
            "34/34 [==============================] - 0s 2ms/step - loss: 2727.4907 - mae: 2727.4907\n",
            "Epoch 275/300\n",
            "34/34 [==============================] - 0s 2ms/step - loss: 2721.9290 - mae: 2721.9290\n",
            "Epoch 276/300\n",
            "34/34 [==============================] - 0s 2ms/step - loss: 2717.0645 - mae: 2717.0645\n",
            "Epoch 277/300\n",
            "34/34 [==============================] - 0s 2ms/step - loss: 2713.4360 - mae: 2713.4360\n",
            "Epoch 278/300\n",
            "34/34 [==============================] - 0s 2ms/step - loss: 2708.8816 - mae: 2708.8816\n",
            "Epoch 279/300\n",
            "34/34 [==============================] - 0s 3ms/step - loss: 2703.5151 - mae: 2703.5151\n",
            "Epoch 280/300\n",
            "34/34 [==============================] - 0s 2ms/step - loss: 2699.1514 - mae: 2699.1514\n",
            "Epoch 281/300\n",
            "34/34 [==============================] - 0s 2ms/step - loss: 2696.6978 - mae: 2696.6978\n",
            "Epoch 282/300\n",
            "34/34 [==============================] - 0s 2ms/step - loss: 2691.9644 - mae: 2691.9644\n",
            "Epoch 283/300\n",
            "34/34 [==============================] - 0s 2ms/step - loss: 2685.5181 - mae: 2685.5181\n",
            "Epoch 284/300\n",
            "34/34 [==============================] - 0s 2ms/step - loss: 2680.6870 - mae: 2680.6870\n",
            "Epoch 285/300\n",
            "34/34 [==============================] - 0s 2ms/step - loss: 2675.0642 - mae: 2675.0642\n",
            "Epoch 286/300\n",
            "34/34 [==============================] - 0s 2ms/step - loss: 2671.0200 - mae: 2671.0200\n",
            "Epoch 287/300\n",
            "34/34 [==============================] - 0s 2ms/step - loss: 2666.0405 - mae: 2666.0405\n",
            "Epoch 288/300\n",
            "34/34 [==============================] - 0s 2ms/step - loss: 2662.0046 - mae: 2662.0046\n",
            "Epoch 289/300\n",
            "34/34 [==============================] - 0s 2ms/step - loss: 2657.1646 - mae: 2657.1646\n",
            "Epoch 290/300\n",
            "34/34 [==============================] - 0s 2ms/step - loss: 2652.8359 - mae: 2652.8359\n",
            "Epoch 291/300\n",
            "34/34 [==============================] - 0s 2ms/step - loss: 2649.1338 - mae: 2649.1338\n",
            "Epoch 292/300\n",
            "34/34 [==============================] - 0s 2ms/step - loss: 2643.5598 - mae: 2643.5598\n",
            "Epoch 293/300\n",
            "34/34 [==============================] - 0s 2ms/step - loss: 2640.8518 - mae: 2640.8518\n",
            "Epoch 294/300\n",
            "34/34 [==============================] - 0s 2ms/step - loss: 2635.4739 - mae: 2635.4739\n",
            "Epoch 295/300\n",
            "34/34 [==============================] - 0s 2ms/step - loss: 2631.5315 - mae: 2631.5315\n",
            "Epoch 296/300\n",
            "34/34 [==============================] - 0s 2ms/step - loss: 2625.3787 - mae: 2625.3787\n",
            "Epoch 297/300\n",
            "34/34 [==============================] - 0s 2ms/step - loss: 2620.2979 - mae: 2620.2979\n",
            "Epoch 298/300\n",
            "34/34 [==============================] - 0s 2ms/step - loss: 2615.6562 - mae: 2615.6562\n",
            "Epoch 299/300\n",
            "34/34 [==============================] - 0s 2ms/step - loss: 2610.6675 - mae: 2610.6675\n",
            "Epoch 300/300\n",
            "34/34 [==============================] - 0s 2ms/step - loss: 2606.8198 - mae: 2606.8198\n"
          ]
        }
      ]
    },
    {
      "cell_type": "code",
      "source": [
        "ann.summary()"
      ],
      "metadata": {
        "colab": {
          "base_uri": "https://localhost:8080/"
        },
        "id": "ihtIwGjnveah",
        "outputId": "0075a54b-0cfe-4d63-c38b-59c57b05a61d"
      },
      "execution_count": null,
      "outputs": [
        {
          "output_type": "stream",
          "name": "stdout",
          "text": [
            "Model: \"sequential_11\"\n",
            "_________________________________________________________________\n",
            " Layer (type)                Output Shape              Param #   \n",
            "=================================================================\n",
            " dense_39 (Dense)            (None, 100)               1000      \n",
            "                                                                 \n",
            " dense_40 (Dense)            (None, 10)                1010      \n",
            "                                                                 \n",
            " dense_41 (Dense)            (None, 1)                 11        \n",
            "                                                                 \n",
            "=================================================================\n",
            "Total params: 2021 (7.89 KB)\n",
            "Trainable params: 2021 (7.89 KB)\n",
            "Non-trainable params: 0 (0.00 Byte)\n",
            "_________________________________________________________________\n"
          ]
        }
      ]
    },
    {
      "cell_type": "code",
      "source": [
        "ann.evaluate(X_test,y_test)"
      ],
      "metadata": {
        "colab": {
          "base_uri": "https://localhost:8080/"
        },
        "id": "Kgqmog_-x5k2",
        "outputId": "fb20dc56-89dc-4756-ffc1-f315b68519ff"
      },
      "execution_count": null,
      "outputs": [
        {
          "output_type": "stream",
          "name": "stdout",
          "text": [
            "9/9 [==============================] - 0s 2ms/step - loss: 2398.5007 - mae: 2398.5007\n"
          ]
        },
        {
          "output_type": "execute_result",
          "data": {
            "text/plain": [
              "[2398.500732421875, 2398.500732421875]"
            ]
          },
          "metadata": {},
          "execution_count": 333
        }
      ]
    },
    {
      "cell_type": "code",
      "source": [
        "np.mean(y_test) , np.median(y_test)"
      ],
      "metadata": {
        "colab": {
          "base_uri": "https://localhost:8080/"
        },
        "id": "oVz7zmHPyTa9",
        "outputId": "934fd124-bd5d-4c68-d7b5-51192cce5c2a"
      },
      "execution_count": null,
      "outputs": [
        {
          "output_type": "execute_result",
          "data": {
            "text/plain": [
              "(13546.866383690298, 9195.2231)"
            ]
          },
          "metadata": {},
          "execution_count": 334
        }
      ]
    },
    {
      "cell_type": "code",
      "source": [
        "pd.DataFrame(history.history).plot()\n",
        "plt.ylabel('Loss')\n",
        "plt.xlabel('epochs')"
      ],
      "metadata": {
        "colab": {
          "base_uri": "https://localhost:8080/",
          "height": 466
        },
        "id": "DEosXxjm0VLH",
        "outputId": "af0c50f9-a324-450c-a7aa-75d6e10be35d"
      },
      "execution_count": null,
      "outputs": [
        {
          "output_type": "execute_result",
          "data": {
            "text/plain": [
              "Text(0.5, 0, 'epochs')"
            ]
          },
          "metadata": {},
          "execution_count": 335
        },
        {
          "output_type": "display_data",
          "data": {
            "text/plain": [
              "<Figure size 640x480 with 1 Axes>"
            ],
            "image/png": "[encoded data removed]"
          },
          "metadata": {}
        }
      ]
    },
    {
      "cell_type": "code",
      "source": [],
      "metadata": {
        "id": "qC3H_P411Kzy"
      },
      "execution_count": null,
      "outputs": []
    }
  ]
}